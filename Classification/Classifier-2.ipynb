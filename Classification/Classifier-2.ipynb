{
 "cells": [
  {
   "cell_type": "code",
   "execution_count": 31,
   "metadata": {},
   "outputs": [],
   "source": [
    "import pandas as pd\n",
    "cuisines_df = pd.read_csv('cleaned_cuisines.csv')\n",
    "cuisines_label_df = cuisines_df['cuisine']\n",
    "cuisines_feature_df = cuisines_df.drop(['cuisine'], axis=1)"
   ]
  },
  {
   "cell_type": "code",
   "execution_count": 32,
   "metadata": {},
   "outputs": [],
   "source": [
    "from sklearn.neighbors import KNeighborsClassifier\n",
    "from sklearn.linear_model import LogisticRegression\n",
    "from sklearn.svm import SVC\n",
    "from sklearn.ensemble import RandomForestClassifier, AdaBoostClassifier\n",
    "from sklearn.model_selection import train_test_split, cross_val_score\n",
    "from sklearn.metrics import accuracy_score,precision_score,confusion_matrix,classification_report, precision_recall_curve\n",
    "import numpy as np"
   ]
  },
  {
   "cell_type": "markdown",
   "metadata": {},
   "source": [
    "Split the data"
   ]
  },
  {
   "cell_type": "code",
   "execution_count": 33,
   "metadata": {},
   "outputs": [],
   "source": [
    "X_train, X_test, y_train, y_test = train_test_split(cuisines_feature_df, cuisines_label_df, test_size=0.3)"
   ]
  },
  {
   "cell_type": "markdown",
   "metadata": {},
   "source": [
    "### Linear SVC classifier\n",
    "The 'C' parameter refers to 'regularization' which regulates the influence of parameters.\n",
    "set kernel to 'linear' to ensure that we leverage linear SVC. Set probability to 'true' to gather probability estimates. Set the random state to '0' to shuffle the data to get probabilities."
   ]
  },
  {
   "cell_type": "code",
   "execution_count": 34,
   "metadata": {},
   "outputs": [],
   "source": [
    "C = 10\n",
    "# Create different classifiers.\n",
    "classifiers = {\n",
    "    'Linear SVC': SVC(kernel='linear', C=C, probability=True,random_state=0)\n",
    "}"
   ]
  },
  {
   "cell_type": "markdown",
   "metadata": {},
   "source": [
    "### K-Neighbors classifier\n",
    "It is part of the \"neighbors\" family, which can be used for both supervised and unsupervised learning. \n",
    "A predefined number of points is created and data are gathered around these points such that generalized labels can be predicted for the data."
   ]
  },
  {
   "cell_type": "code",
   "execution_count": 35,
   "metadata": {},
   "outputs": [],
   "source": [
    "classifiers['KNN classifier'] = KNeighborsClassifier(C)"
   ]
  },
  {
   "cell_type": "markdown",
   "metadata": {},
   "source": [
    "### Support Vector Classifier\n"
   ]
  },
  {
   "cell_type": "code",
   "execution_count": 36,
   "metadata": {},
   "outputs": [],
   "source": [
    "classifiers['SVC'] = SVC()"
   ]
  },
  {
   "cell_type": "markdown",
   "metadata": {},
   "source": [
    "### Ensemble Classifiers\n",
    "- Random Forest\n",
    "- AdaBoost"
   ]
  },
  {
   "cell_type": "code",
   "execution_count": 37,
   "metadata": {},
   "outputs": [],
   "source": [
    "classifiers['RFST'] = RandomForestClassifier(n_estimators=100)\n",
    "classifiers['ADA'] = AdaBoostClassifier(n_estimators=100)"
   ]
  },
  {
   "cell_type": "markdown",
   "metadata": {},
   "source": [
    "### Train the model"
   ]
  },
  {
   "cell_type": "code",
   "execution_count": 38,
   "metadata": {},
   "outputs": [
    {
     "name": "stdout",
     "output_type": "stream",
     "text": [
      "Accuracy (test) for Linear SVC: 78.4% \n",
      "              precision    recall  f1-score   support\n",
      "\n",
      "     chinese       0.66      0.73      0.69       237\n",
      "      indian       0.88      0.86      0.87       246\n",
      "    japanese       0.77      0.75      0.76       227\n",
      "      korean       0.85      0.78      0.81       232\n",
      "        thai       0.78      0.80      0.79       257\n",
      "\n",
      "    accuracy                           0.78      1199\n",
      "   macro avg       0.79      0.78      0.78      1199\n",
      "weighted avg       0.79      0.78      0.79      1199\n",
      "\n",
      "Accuracy (test) for KNN classifier: 75.1% \n",
      "              precision    recall  f1-score   support\n",
      "\n",
      "     chinese       0.67      0.73      0.70       237\n",
      "      indian       0.85      0.83      0.84       246\n",
      "    japanese       0.64      0.79      0.71       227\n",
      "      korean       0.94      0.60      0.73       232\n",
      "        thai       0.76      0.79      0.77       257\n",
      "\n",
      "    accuracy                           0.75      1199\n",
      "   macro avg       0.77      0.75      0.75      1199\n",
      "weighted avg       0.77      0.75      0.75      1199\n",
      "\n",
      "Accuracy (test) for SVC: 83.6% \n",
      "              precision    recall  f1-score   support\n",
      "\n",
      "     chinese       0.78      0.74      0.76       237\n",
      "      indian       0.90      0.92      0.91       246\n",
      "    japanese       0.81      0.81      0.81       227\n",
      "      korean       0.91      0.81      0.86       232\n",
      "        thai       0.79      0.88      0.83       257\n",
      "\n",
      "    accuracy                           0.84      1199\n",
      "   macro avg       0.84      0.83      0.83      1199\n",
      "weighted avg       0.84      0.84      0.84      1199\n",
      "\n",
      "Accuracy (test) for RFST: 84.7% \n",
      "              precision    recall  f1-score   support\n",
      "\n",
      "     chinese       0.78      0.79      0.79       237\n",
      "      indian       0.92      0.93      0.92       246\n",
      "    japanese       0.83      0.80      0.81       227\n",
      "      korean       0.88      0.82      0.85       232\n",
      "        thai       0.82      0.89      0.86       257\n",
      "\n",
      "    accuracy                           0.85      1199\n",
      "   macro avg       0.85      0.85      0.85      1199\n",
      "weighted avg       0.85      0.85      0.85      1199\n",
      "\n"
     ]
    },
    {
     "name": "stderr",
     "output_type": "stream",
     "text": [
      "c:\\Study\\P\\Lib\\site-packages\\sklearn\\ensemble\\_weight_boosting.py:519: FutureWarning: The SAMME.R algorithm (the default) is deprecated and will be removed in 1.6. Use the SAMME algorithm to circumvent this warning.\n",
      "  warnings.warn(\n"
     ]
    },
    {
     "name": "stdout",
     "output_type": "stream",
     "text": [
      "Accuracy (test) for ADA: 69.3% \n",
      "              precision    recall  f1-score   support\n",
      "\n",
      "     chinese       0.55      0.59      0.57       237\n",
      "      indian       0.86      0.84      0.85       246\n",
      "    japanese       0.66      0.50      0.57       227\n",
      "      korean       0.71      0.79      0.75       232\n",
      "        thai       0.69      0.72      0.70       257\n",
      "\n",
      "    accuracy                           0.69      1199\n",
      "   macro avg       0.69      0.69      0.69      1199\n",
      "weighted avg       0.69      0.69      0.69      1199\n",
      "\n"
     ]
    }
   ],
   "source": [
    "n_classifiers = len(classifiers)\n",
    "\n",
    "for index, (name,classifier) in enumerate(classifiers.items()):\n",
    "    classifier.fit(X_train, np.ravel(y_train))\n",
    "\n",
    "    y_pred = classifier.predict(X_test)\n",
    "    accuracy = accuracy_score(y_test, y_pred)\n",
    "    print(\"Accuracy (test) for %s: %0.1f%% \" % (name, accuracy * 100))\n",
    "    print(classification_report(y_test, y_pred))"
   ]
  },
  {
   "cell_type": "markdown",
   "metadata": {},
   "source": []
  }
 ],
 "metadata": {
  "kernelspec": {
   "display_name": "Python 3",
   "language": "python",
   "name": "python3"
  },
  "language_info": {
   "codemirror_mode": {
    "name": "ipython",
    "version": 3
   },
   "file_extension": ".py",
   "mimetype": "text/x-python",
   "name": "python",
   "nbconvert_exporter": "python",
   "pygments_lexer": "ipython3",
   "version": "3.11.2"
  }
 },
 "nbformat": 4,
 "nbformat_minor": 2
}
