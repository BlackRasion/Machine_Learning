{
 "cells": [
  {
   "cell_type": "code",
   "execution_count": 12,
   "metadata": {},
   "outputs": [],
   "source": [
    "from textblob import TextBlob"
   ]
  },
  {
   "cell_type": "markdown",
   "metadata": {},
   "source": []
  },
  {
   "cell_type": "code",
   "execution_count": 16,
   "metadata": {},
   "outputs": [
    {
     "name": "stdout",
     "output_type": "stream",
     "text": [
      "It is a truth universally acknowledged, that a single man in possession of a good fortune, must be in want of a wife. has a sentiment of Sentiment(polarity=0.20952380952380953, subjectivity=0.27142857142857146)\n",
      "Darcy, as well as Elizabeth, really loved them; and they were both ever sensible of the warmest gratitude towards the persons who, by bringing her into Derbyshire, had been the means of uniting them. has a sentiment of Sentiment(polarity=0.7, subjectivity=0.8)\n"
     ]
    }
   ],
   "source": [
    "quote1 = \"\"\"It is a truth universally acknowledged, that a single man in possession of a good fortune, must be in want of a wife.\"\"\"\n",
    "\n",
    "quote2 = \"\"\"Darcy, as well as Elizabeth, really loved them; and they were both ever sensible of the warmest gratitude towards the persons who, by bringing her into Derbyshire, had been the means of uniting them.\"\"\"\n",
    "\n",
    "sentiment1 = TextBlob(quote1).sentiment\n",
    "sentiment2 = TextBlob(quote2).sentiment\n",
    "\n",
    "print(quote1 + \" has a sentiment of \" + str(sentiment1))\n",
    "print(quote2 + \" has a sentiment of \" + str(sentiment2))"
   ]
  },
  {
   "cell_type": "markdown",
   "metadata": {},
   "source": [
    " Determine, using sentiment polarity, if Pride and Prejudice has more absolutely positive sentences than absolutely negative ones. \n",
    " For this task, assume that a polarity score of 1 or -1 is absolutely positive or negative respectively.\n",
    "\n"
   ]
  },
  {
   "cell_type": "code",
   "execution_count": 18,
   "metadata": {},
   "outputs": [],
   "source": [
    "with open(\"pride_and_prejudice.txt\", encoding = \"utf8\") as f:\n",
    "    file_contents = f.read()  "
   ]
  },
  {
   "cell_type": "code",
   "execution_count": 19,
   "metadata": {},
   "outputs": [],
   "source": [
    "book_pride = TextBlob(file_contents)\n",
    "positive_sentiment_sentence = []\n",
    "negative_sentiment_sentence = []"
   ]
  },
  {
   "cell_type": "code",
   "execution_count": 20,
   "metadata": {},
   "outputs": [],
   "source": [
    "for sentence in book_pride.sentences:\n",
    "    if sentence.sentiment.polarity == 1:\n",
    "        positive_sentiment_sentence.append(sentence)\n",
    "    elif sentence.sentiment.polarity == -1:\n",
    "        negative_sentiment_sentence.append(sentence)"
   ]
  },
  {
   "cell_type": "code",
   "execution_count": 21,
   "metadata": {},
   "outputs": [
    {
     "name": "stdout",
     "output_type": "stream",
     "text": [
      "The 26 most positive sentences:\n",
      "+ “What an excellent father you have, girls,” said she, when the door wasshut.\n",
      "+ He walked here, and he walked there, fancying himself so verygreat!\n",
      "+ Mr. Darcy replied, with great intrepidity,--“Miss Elizabeth Bennet.”“Miss Elizabeth Bennet!” repeated Miss Bingley.\n",
      "+ “Your examination of Mr. Darcy is over, I presume,” said Miss Bingley;“and pray what is the result?”“I am perfectly convinced by it that Mr. Darcy has no defect.\n",
      "+ Family pride, and _filial_ pride, for he is very proud of what hisfather was, have done this.\n",
      "+ _That_ would be the greatest misfortune of all!\n",
      "+ How wonderfully these sort of things occur!\n",
      "+ She owed her greatest relief to her friend Miss Lucas, whooften joined them, and good-naturedly engaged Mr. Collins’s conversationto herself.\n",
      "+ The improvement ofspending a night in London was added in time, and the plan became asperfect as plan could be.\n",
      "+ She is avery great favourite with some ladies of my acquaintance, Mrs. Hurst andMiss Bingley.\n",
      "+ It isdone, however, and it was done for the best.\n",
      "+ I have the greatest dislike in theworld to that sort of thing.\n",
      "+ Charlotte is anexcellent manager, I dare say.\n",
      "+ “His father was an excellent man,” said Mrs. Gardiner.\n",
      "+ “He is the best landlord, and the best master,” said she, “that everlived.\n",
      "+ “He is perfectly well-behaved, polite, and unassuming,” said her uncle.\n",
      "+ On reaching the house, they were shown through the hall into the saloon,whose northern aspect rendered it delightful for summer.\n",
      "+ Our distress, my dear Lizzy, is very great.\n",
      "+ And tell my dearLydia not to give any directions about her clothes till she has seen me,for she does not know which are the best warehouses.\n",
      "+ “My dear, dear Lydia!” she cried: “this is delightful indeed!\n",
      "+ Excellent parsonage-house!\n",
      "+ But, however, he is very welcome to come toNetherfield, if he likes it.\n",
      "+ Happy shall I be when his stay at Netherfield is over!”“I wish I could say anything to comfort you,” replied Elizabeth; “but itis wholly out of my power.\n",
      "+ If I could but see you as happy!\n",
      "+ He is perfectly amiable.\n",
      "+ Your idea of theponies is delightful.\n"
     ]
    }
   ],
   "source": [
    "print(\"The \" + str(len(positive_sentiment_sentence)) + \" most positive sentences:\")\n",
    "for sentence in positive_sentiment_sentence:\n",
    "    print(\"+ \" + str(sentence.replace(\"\\n\", \"\").replace(\"      \", \" \")))"
   ]
  },
  {
   "cell_type": "code",
   "execution_count": 22,
   "metadata": {},
   "outputs": [
    {
     "name": "stdout",
     "output_type": "stream",
     "text": [
      "The 14 most negative sentences:\n",
      "- Everybody is disgusted with his pride.\n",
      "- what canhave induced him to behave so cruelly?”“A thorough, determined dislike of me--a dislike which I cannot butattribute in some measure to jealousy.\n",
      "- To finda man agreeable whom one is determined to hate!\n",
      "- “I should like to know how he behaves among strangers.”“You shall hear, then--but prepare for something very dreadful.\n",
      "- The pause was to Elizabeth’s feelingsdreadful.\n",
      "- “Wickham sovery bad!\n",
      "- The separationbetween her and her family was rather noisy than pathetic.\n",
      "- It would be dreadful!\n",
      "- can she be ignorant of what youand Jane seem so well to understand?”“Oh, yes!--that, that is the worst of all.\n",
      "- “She is so fond of Mrs. Forster,” said she, “it will be quite shockingto send her away!\n",
      "- It was all     over before I arrived; so my curiosity was not so dreadfully racked     as _yours_ seems to have been.\n",
      "- He called it, therefore, his duty to step     forward, and endeavour to remedy an evil which had been brought on     by himself.\n",
      "- How you must have hated me after _that_ evening!”“Hate you!\n",
      "- You were disgusted with the women who were always speaking,and looking, and thinking for _your_ approbation alone.\n"
     ]
    }
   ],
   "source": [
    "print(\"The \" + str(len(negative_sentiment_sentence)) + \" most negative sentences:\")\n",
    "for sentence in negative_sentiment_sentence:\n",
    "    print(\"- \" + str(sentence.replace(\"\\n\", \"\").replace(\"      \", \" \")))"
   ]
  },
  {
   "cell_type": "code",
   "execution_count": null,
   "metadata": {},
   "outputs": [],
   "source": []
  }
 ],
 "metadata": {
  "kernelspec": {
   "display_name": "Python 3",
   "language": "python",
   "name": "python3"
  },
  "language_info": {
   "codemirror_mode": {
    "name": "ipython",
    "version": 3
   },
   "file_extension": ".py",
   "mimetype": "text/x-python",
   "name": "python",
   "nbconvert_exporter": "python",
   "pygments_lexer": "ipython3",
   "version": "3.11.2"
  }
 },
 "nbformat": 4,
 "nbformat_minor": 2
}
