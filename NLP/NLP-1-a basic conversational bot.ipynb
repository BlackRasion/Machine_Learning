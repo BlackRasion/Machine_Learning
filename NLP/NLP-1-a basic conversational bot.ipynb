{
 "cells": [
  {
   "cell_type": "markdown",
   "metadata": {},
   "source": [
    "## Build a basic conversational bot"
   ]
  },
  {
   "cell_type": "markdown",
   "metadata": {},
   "source": [
    "1. Print instructions advising the user how to interact with the bot\n",
    "2. Start a loop\n",
    "    - Accept user input\n",
    "    - If user has asked to exit, then exit\n",
    "    - Process user input and determine response (in this case, the response is a random choice from a list of possible generic responses)\n",
    "    - Print response\n",
    "3. loop back to step 2"
   ]
  },
  {
   "cell_type": "code",
   "execution_count": 1,
   "metadata": {},
   "outputs": [],
   "source": [
    "import random\n"
   ]
  },
  {
   "cell_type": "markdown",
   "metadata": {},
   "source": [
    "List of possible responses"
   ]
  },
  {
   "cell_type": "code",
   "execution_count": 2,
   "metadata": {},
   "outputs": [],
   "source": [
    "random_responses = [\"That is quite interesting, please tell me more.\",\n",
    "                    \"I see. Do go on.\",\n",
    "                    \"Why do you say that?\",\n",
    "                    \"Funny weather we've been having, isn't it?\",\n",
    "                    \"Let's change the subject.\",\n",
    "                    \"Did you catch the game last night?\",\n",
    "                    \"Interesting topic, but how about we switch gears a bit?\",\n",
    "                    \"I'm not sure I follow, can you clarify?\",\n",
    "                    \"That's an interesting point; let's hear more.\",\n",
    "                    \"Quite fascinating, continue please.\",\n",
    "                    \"How does that relate to your earlier point?\"]"
   ]
  },
  {
   "cell_type": "markdown",
   "metadata": {},
   "source": [
    "possible exit responses"
   ]
  },
  {
   "cell_type": "code",
   "execution_count": 3,
   "metadata": {},
   "outputs": [],
   "source": [
    "random_bye = [  \"Goodbye!\",\n",
    "                \"It was nice talking with you, but I need to go now.\",\n",
    "                \"I enjoyed our chat, but I must leave.\",\n",
    "                \"I hope you have a great day ahead!\",\n",
    "                \"Talk to you later!\",\n",
    "                \"Goodbye for now!\",\n",
    "                \"Catch you next time!\",\n",
    "                \"Until we meet again!\"]"
   ]
  },
  {
   "cell_type": "markdown",
   "metadata": {},
   "source": [
    "Exit commands\n"
   ]
  },
  {
   "cell_type": "code",
   "execution_count": 4,
   "metadata": {},
   "outputs": [],
   "source": [
    "exit_commands = [\"bye\", \"goodbye\", \"exit\", \"quit\", \"stop\"]"
   ]
  },
  {
   "cell_type": "code",
   "execution_count": 5,
   "metadata": {},
   "outputs": [],
   "source": [
    "def get_response():\n",
    "    return random.choice(random_responses)\n",
    "\n",
    "def get_bye():\n",
    "    return random.choice(random_bye)\n",
    "\n",
    "def main():\n",
    "\n",
    "    print(\"Hello, I am Watermallon, the simple robot.\")\n",
    "    print(\"You can end this conversation at any time by typing 'bye'\")\n",
    "    print(\"After typing each answer, press 'enter'\")\n",
    "\n",
    "    while True:\n",
    "        user_input = input(\"You: \").lower()\n",
    "\n",
    "        if user_input in exit_commands:\n",
    "            print(\"You:\", user_input)\n",
    "            print(\"Bot:\", get_bye())\n",
    "            break\n",
    "        else:\n",
    "            print(\"You:\", user_input)\n",
    "            print(\"Bot:\", get_response())"
   ]
  },
  {
   "cell_type": "code",
   "execution_count": 6,
   "metadata": {},
   "outputs": [
    {
     "name": "stdout",
     "output_type": "stream",
     "text": [
      "Hello, I am Watermallon, the simple robot.\n",
      "You can end this conversation at any time by typing 'bye'\n",
      "After typing each answer, press 'enter'\n",
      "You: good to see you\n",
      "Bot: Funny weather we've been having, isn't it?\n",
      "You: yes\n",
      "Bot: Let's change the subject.\n",
      "You: ok\n",
      "Bot: Quite fascinating, continue please.\n",
      "You: bye\n",
      "Bot: Talk to you later!\n"
     ]
    }
   ],
   "source": [
    "if __name__ == \"__main__\":\n",
    "    main()"
   ]
  },
  {
   "cell_type": "markdown",
   "metadata": {},
   "source": []
  }
 ],
 "metadata": {
  "kernelspec": {
   "display_name": "Python 3",
   "language": "python",
   "name": "python3"
  },
  "language_info": {
   "codemirror_mode": {
    "name": "ipython",
    "version": 3
   },
   "file_extension": ".py",
   "mimetype": "text/x-python",
   "name": "python",
   "nbconvert_exporter": "python",
   "pygments_lexer": "ipython3",
   "version": "3.11.2"
  }
 },
 "nbformat": 4,
 "nbformat_minor": 2
}
