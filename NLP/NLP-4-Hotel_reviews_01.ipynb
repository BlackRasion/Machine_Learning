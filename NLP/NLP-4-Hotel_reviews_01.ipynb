{
 "cells": [
  {
   "cell_type": "markdown",
   "metadata": {},
   "source": [
    " Build a hotel recommendation bot using sentiment analysis and guest reviews scores. \n",
    " The dataset includes reviews of 1493 different hotels in 6 cities."
   ]
  },
  {
   "cell_type": "code",
   "execution_count": 2,
   "metadata": {},
   "outputs": [],
   "source": [
    "import pandas as pd\n",
    "import time"
   ]
  },
  {
   "cell_type": "markdown",
   "metadata": {},
   "source": [
    "### Load the data"
   ]
  },
  {
   "cell_type": "code",
   "execution_count": 4,
   "metadata": {},
   "outputs": [
    {
     "name": "stderr",
     "output_type": "stream",
     "text": [
      "<>:3: SyntaxWarning: invalid escape sequence '\\C'\n",
      "<>:3: SyntaxWarning: invalid escape sequence '\\C'\n",
      "C:\\Users\\TheAssshOne\\AppData\\Local\\Temp\\ipykernel_25120\\3388648201.py:3: SyntaxWarning: invalid escape sequence '\\C'\n",
      "  df = pd.read_csv('D:\\Code\\ML\\Machine_Learning\\Data\\Hotel_Reviews.csv')\n"
     ]
    },
    {
     "name": "stdout",
     "output_type": "stream",
     "text": [
      "Loading data file now, this could take a while depending on file size\n",
      "<class 'pandas.core.frame.DataFrame'>\n",
      "RangeIndex: 515738 entries, 0 to 515737\n",
      "Data columns (total 17 columns):\n",
      " #   Column                                      Non-Null Count   Dtype  \n",
      "---  ------                                      --------------   -----  \n",
      " 0   Hotel_Address                               515738 non-null  object \n",
      " 1   Additional_Number_of_Scoring                515738 non-null  int64  \n",
      " 2   Review_Date                                 515738 non-null  object \n",
      " 3   Average_Score                               515738 non-null  float64\n",
      " 4   Hotel_Name                                  515738 non-null  object \n",
      " 5   Reviewer_Nationality                        515738 non-null  object \n",
      " 6   Negative_Review                             515738 non-null  object \n",
      " 7   Review_Total_Negative_Word_Counts           515738 non-null  int64  \n",
      " 8   Total_Number_of_Reviews                     515738 non-null  int64  \n",
      " 9   Positive_Review                             515738 non-null  object \n",
      " 10  Review_Total_Positive_Word_Counts           515738 non-null  int64  \n",
      " 11  Total_Number_of_Reviews_Reviewer_Has_Given  515738 non-null  int64  \n",
      " 12  Reviewer_Score                              515738 non-null  float64\n",
      " 13  Tags                                        515738 non-null  object \n",
      " 14  days_since_review                           515738 non-null  object \n",
      " 15  lat                                         512470 non-null  float64\n",
      " 16  lng                                         512470 non-null  float64\n",
      "dtypes: float64(4), int64(5), object(8)\n",
      "memory usage: 66.9+ MB\n",
      "Loading took 2.51 seconds\n"
     ]
    }
   ],
   "source": [
    "print(\"Loading data file now, this could take a while depending on file size\")\n",
    "start = time.time()\n",
    "df = pd.read_csv('D:\\Code\\ML\\Machine_Learning\\Data\\Hotel_Reviews.csv')\n",
    "end = time.time()\n",
    "df.info()\n",
    "print(\"Loading took \" + str(round(end - start, 2)) + \" seconds\")"
   ]
  },
  {
   "cell_type": "markdown",
   "metadata": {},
   "source": [
    "### Dataframe operations"
   ]
  },
  {
   "cell_type": "markdown",
   "metadata": {},
   "source": [
    "The shape of the data(rows, columns)"
   ]
  },
  {
   "cell_type": "code",
   "execution_count": 5,
   "metadata": {},
   "outputs": [
    {
     "name": "stdout",
     "output_type": "stream",
     "text": [
      "The shape of the data is: (515738, 17)\n"
     ]
    }
   ],
   "source": [
    "print(\"The shape of the data is: \" + str(df.shape))"
   ]
  },
  {
   "cell_type": "markdown",
   "metadata": {},
   "source": [
    "Calculate the frequency count for reviewer nationalities"
   ]
  },
  {
   "cell_type": "code",
   "execution_count": 7,
   "metadata": {},
   "outputs": [
    {
     "name": "stdout",
     "output_type": "stream",
     "text": [
      "Distinct values in Reviewer_Nationality: 227\n"
     ]
    }
   ],
   "source": [
    "print(\"Distinct values in Reviewer_Nationality: \" + str(df['Reviewer_Nationality'].nunique()))"
   ]
  },
  {
   "cell_type": "code",
   "execution_count": 8,
   "metadata": {},
   "outputs": [
    {
     "name": "stdout",
     "output_type": "stream",
     "text": [
      "Top 10 nationalities of reviewers:\n"
     ]
    },
    {
     "data": {
      "text/html": [
       "<div>\n",
       "<style scoped>\n",
       "    .dataframe tbody tr th:only-of-type {\n",
       "        vertical-align: middle;\n",
       "    }\n",
       "\n",
       "    .dataframe tbody tr th {\n",
       "        vertical-align: top;\n",
       "    }\n",
       "\n",
       "    .dataframe thead th {\n",
       "        text-align: right;\n",
       "    }\n",
       "</style>\n",
       "<table border=\"1\" class=\"dataframe\">\n",
       "  <thead>\n",
       "    <tr style=\"text-align: right;\">\n",
       "      <th></th>\n",
       "      <th>Reviewer_Nationality</th>\n",
       "      <th>count</th>\n",
       "    </tr>\n",
       "  </thead>\n",
       "  <tbody>\n",
       "    <tr>\n",
       "      <th>0</th>\n",
       "      <td>United Kingdom</td>\n",
       "      <td>245246</td>\n",
       "    </tr>\n",
       "    <tr>\n",
       "      <th>1</th>\n",
       "      <td>United States of America</td>\n",
       "      <td>35437</td>\n",
       "    </tr>\n",
       "    <tr>\n",
       "      <th>2</th>\n",
       "      <td>Australia</td>\n",
       "      <td>21686</td>\n",
       "    </tr>\n",
       "    <tr>\n",
       "      <th>3</th>\n",
       "      <td>Ireland</td>\n",
       "      <td>14827</td>\n",
       "    </tr>\n",
       "    <tr>\n",
       "      <th>4</th>\n",
       "      <td>United Arab Emirates</td>\n",
       "      <td>10235</td>\n",
       "    </tr>\n",
       "    <tr>\n",
       "      <th>5</th>\n",
       "      <td>Saudi Arabia</td>\n",
       "      <td>8951</td>\n",
       "    </tr>\n",
       "    <tr>\n",
       "      <th>6</th>\n",
       "      <td>Netherlands</td>\n",
       "      <td>8772</td>\n",
       "    </tr>\n",
       "    <tr>\n",
       "      <th>7</th>\n",
       "      <td>Switzerland</td>\n",
       "      <td>8678</td>\n",
       "    </tr>\n",
       "    <tr>\n",
       "      <th>8</th>\n",
       "      <td>Germany</td>\n",
       "      <td>7941</td>\n",
       "    </tr>\n",
       "    <tr>\n",
       "      <th>9</th>\n",
       "      <td>Canada</td>\n",
       "      <td>7894</td>\n",
       "    </tr>\n",
       "  </tbody>\n",
       "</table>\n",
       "</div>"
      ],
      "text/plain": [
       "         Reviewer_Nationality   count\n",
       "0             United Kingdom   245246\n",
       "1   United States of America    35437\n",
       "2                  Australia    21686\n",
       "3                    Ireland    14827\n",
       "4       United Arab Emirates    10235\n",
       "5               Saudi Arabia     8951\n",
       "6                Netherlands     8772\n",
       "7                Switzerland     8678\n",
       "8                    Germany     7941\n",
       "9                     Canada     7894"
      ]
     },
     "execution_count": 8,
     "metadata": {},
     "output_type": "execute_result"
    }
   ],
   "source": [
    "nationalities_freq = df['Reviewer_Nationality'].value_counts().reset_index()\n",
    "print(\"Top 10 nationalities of reviewers:\")\n",
    "nationalities_freq.head(10)"
   ]
  },
  {
   "cell_type": "markdown",
   "metadata": {},
   "source": [
    "find the most frequently reviewed hotel for each of the top 10 most reviewer nationalities"
   ]
  },
  {
   "cell_type": "code",
   "execution_count": 20,
   "metadata": {},
   "outputs": [
    {
     "name": "stdout",
     "output_type": "stream",
     "text": [
      "The most reviewed hotel for top 10 nationalities:\n",
      "United Kingdom: Britannia International Hotel Canary Wharf with 3833 reviews.\n",
      "United States of America: Hotel Esther a with 423 reviews.\n",
      "Australia: Park Plaza Westminster Bridge London with 167 reviews.\n",
      "Ireland: Copthorne Tara Hotel London Kensington with 239 reviews.\n",
      "United Arab Emirates: Millennium Hotel London Knightsbridge with 129 reviews.\n",
      "Saudi Arabia: The Cumberland A Guoman Hotel with 142 reviews.\n",
      "Netherlands: Jaz Amsterdam with 97 reviews.\n",
      "Switzerland: Hotel Da Vinci with 97 reviews.\n",
      "Germany: Hotel Da Vinci with 86 reviews.\n",
      "Canada: St James Court A Taj Hotel London with 61 reviews.\n"
     ]
    },
    {
     "name": "stderr",
     "output_type": "stream",
     "text": [
      "C:\\Users\\TheAssshOne\\AppData\\Local\\Temp\\ipykernel_25120\\2042560836.py:8: FutureWarning: Series.__getitem__ treating keys as positions is deprecated. In a future version, integer keys will always be treated as labels (consistent with DataFrame behavior). To access a value by position, use `ser.iloc[pos]`\n",
      "  \" with \" + str(freq[0]) + \" reviews.\")\n",
      "C:\\Users\\TheAssshOne\\AppData\\Local\\Temp\\ipykernel_25120\\2042560836.py:8: FutureWarning: Series.__getitem__ treating keys as positions is deprecated. In a future version, integer keys will always be treated as labels (consistent with DataFrame behavior). To access a value by position, use `ser.iloc[pos]`\n",
      "  \" with \" + str(freq[0]) + \" reviews.\")\n",
      "C:\\Users\\TheAssshOne\\AppData\\Local\\Temp\\ipykernel_25120\\2042560836.py:8: FutureWarning: Series.__getitem__ treating keys as positions is deprecated. In a future version, integer keys will always be treated as labels (consistent with DataFrame behavior). To access a value by position, use `ser.iloc[pos]`\n",
      "  \" with \" + str(freq[0]) + \" reviews.\")\n",
      "C:\\Users\\TheAssshOne\\AppData\\Local\\Temp\\ipykernel_25120\\2042560836.py:8: FutureWarning: Series.__getitem__ treating keys as positions is deprecated. In a future version, integer keys will always be treated as labels (consistent with DataFrame behavior). To access a value by position, use `ser.iloc[pos]`\n",
      "  \" with \" + str(freq[0]) + \" reviews.\")\n",
      "C:\\Users\\TheAssshOne\\AppData\\Local\\Temp\\ipykernel_25120\\2042560836.py:8: FutureWarning: Series.__getitem__ treating keys as positions is deprecated. In a future version, integer keys will always be treated as labels (consistent with DataFrame behavior). To access a value by position, use `ser.iloc[pos]`\n",
      "  \" with \" + str(freq[0]) + \" reviews.\")\n",
      "C:\\Users\\TheAssshOne\\AppData\\Local\\Temp\\ipykernel_25120\\2042560836.py:8: FutureWarning: Series.__getitem__ treating keys as positions is deprecated. In a future version, integer keys will always be treated as labels (consistent with DataFrame behavior). To access a value by position, use `ser.iloc[pos]`\n",
      "  \" with \" + str(freq[0]) + \" reviews.\")\n",
      "C:\\Users\\TheAssshOne\\AppData\\Local\\Temp\\ipykernel_25120\\2042560836.py:8: FutureWarning: Series.__getitem__ treating keys as positions is deprecated. In a future version, integer keys will always be treated as labels (consistent with DataFrame behavior). To access a value by position, use `ser.iloc[pos]`\n",
      "  \" with \" + str(freq[0]) + \" reviews.\")\n",
      "C:\\Users\\TheAssshOne\\AppData\\Local\\Temp\\ipykernel_25120\\2042560836.py:8: FutureWarning: Series.__getitem__ treating keys as positions is deprecated. In a future version, integer keys will always be treated as labels (consistent with DataFrame behavior). To access a value by position, use `ser.iloc[pos]`\n",
      "  \" with \" + str(freq[0]) + \" reviews.\")\n",
      "C:\\Users\\TheAssshOne\\AppData\\Local\\Temp\\ipykernel_25120\\2042560836.py:8: FutureWarning: Series.__getitem__ treating keys as positions is deprecated. In a future version, integer keys will always be treated as labels (consistent with DataFrame behavior). To access a value by position, use `ser.iloc[pos]`\n",
      "  \" with \" + str(freq[0]) + \" reviews.\")\n",
      "C:\\Users\\TheAssshOne\\AppData\\Local\\Temp\\ipykernel_25120\\2042560836.py:8: FutureWarning: Series.__getitem__ treating keys as positions is deprecated. In a future version, integer keys will always be treated as labels (consistent with DataFrame behavior). To access a value by position, use `ser.iloc[pos]`\n",
      "  \" with \" + str(freq[0]) + \" reviews.\")\n"
     ]
    }
   ],
   "source": [
    "#the most frequently reviewed hotel for each of the top 10 most reviewer nationalities\n",
    "top_10_nationalities = nationalities_freq.head(10)['Reviewer_Nationality']\n",
    "\n",
    "print(\"The most reviewed hotel for top 10 nationalities:\")\n",
    "for nat in top_10_nationalities:\n",
    "    freq = df[df['Reviewer_Nationality'] == nat]['Hotel_Name'].value_counts()\n",
    "    print(str(nat).strip() + \": \" + str(freq.index[0]) + \n",
    "          \" with \" + str(freq[0]) + \" reviews.\") "
   ]
  },
  {
   "cell_type": "markdown",
   "metadata": {},
   "source": [
    "Frequency count of hotel"
   ]
  },
  {
   "cell_type": "code",
   "execution_count": 21,
   "metadata": {},
   "outputs": [
    {
     "data": {
      "text/html": [
       "<div>\n",
       "<style scoped>\n",
       "    .dataframe tbody tr th:only-of-type {\n",
       "        vertical-align: middle;\n",
       "    }\n",
       "\n",
       "    .dataframe tbody tr th {\n",
       "        vertical-align: top;\n",
       "    }\n",
       "\n",
       "    .dataframe thead th {\n",
       "        text-align: right;\n",
       "    }\n",
       "</style>\n",
       "<table border=\"1\" class=\"dataframe\">\n",
       "  <thead>\n",
       "    <tr style=\"text-align: right;\">\n",
       "      <th></th>\n",
       "      <th>Hotel_Name</th>\n",
       "      <th>count</th>\n",
       "    </tr>\n",
       "  </thead>\n",
       "  <tbody>\n",
       "    <tr>\n",
       "      <th>0</th>\n",
       "      <td>Britannia International Hotel Canary Wharf</td>\n",
       "      <td>4789</td>\n",
       "    </tr>\n",
       "    <tr>\n",
       "      <th>1</th>\n",
       "      <td>Strand Palace Hotel</td>\n",
       "      <td>4256</td>\n",
       "    </tr>\n",
       "    <tr>\n",
       "      <th>2</th>\n",
       "      <td>Park Plaza Westminster Bridge London</td>\n",
       "      <td>4169</td>\n",
       "    </tr>\n",
       "    <tr>\n",
       "      <th>3</th>\n",
       "      <td>Copthorne Tara Hotel London Kensington</td>\n",
       "      <td>3578</td>\n",
       "    </tr>\n",
       "    <tr>\n",
       "      <th>4</th>\n",
       "      <td>DoubleTree by Hilton Hotel London Tower of London</td>\n",
       "      <td>3212</td>\n",
       "    </tr>\n",
       "    <tr>\n",
       "      <th>5</th>\n",
       "      <td>Grand Royale London Hyde Park</td>\n",
       "      <td>2958</td>\n",
       "    </tr>\n",
       "    <tr>\n",
       "      <th>6</th>\n",
       "      <td>Holiday Inn London Kensington</td>\n",
       "      <td>2768</td>\n",
       "    </tr>\n",
       "    <tr>\n",
       "      <th>7</th>\n",
       "      <td>Hilton London Metropole</td>\n",
       "      <td>2628</td>\n",
       "    </tr>\n",
       "    <tr>\n",
       "      <th>8</th>\n",
       "      <td>Millennium Gloucester Hotel London</td>\n",
       "      <td>2565</td>\n",
       "    </tr>\n",
       "    <tr>\n",
       "      <th>9</th>\n",
       "      <td>Intercontinental London The O2</td>\n",
       "      <td>2551</td>\n",
       "    </tr>\n",
       "  </tbody>\n",
       "</table>\n",
       "</div>"
      ],
      "text/plain": [
       "                                          Hotel_Name  count\n",
       "0         Britannia International Hotel Canary Wharf   4789\n",
       "1                                Strand Palace Hotel   4256\n",
       "2               Park Plaza Westminster Bridge London   4169\n",
       "3             Copthorne Tara Hotel London Kensington   3578\n",
       "4  DoubleTree by Hilton Hotel London Tower of London   3212\n",
       "5                      Grand Royale London Hyde Park   2958\n",
       "6                      Holiday Inn London Kensington   2768\n",
       "7                            Hilton London Metropole   2628\n",
       "8                 Millennium Gloucester Hotel London   2565\n",
       "9                     Intercontinental London The O2   2551"
      ]
     },
     "execution_count": 21,
     "metadata": {},
     "output_type": "execute_result"
    }
   ],
   "source": [
    "hotel_freq = df['Hotel_Name'].value_counts().reset_index()\n",
    "hotel_freq.head(10)"
   ]
  },
  {
   "cell_type": "markdown",
   "metadata": {},
   "source": [
    "Calculate an average score (getting the average of all reviewer scores in the dataset for each hotel)"
   ]
  },
  {
   "cell_type": "code",
   "execution_count": 28,
   "metadata": {},
   "outputs": [
    {
     "name": "stdout",
     "output_type": "stream",
     "text": [
      "        Score_Difference  Average_Score  Calc_Average_Score  \\\n",
      "3813                -1.3            7.2                 5.9   \n",
      "250308              -0.9            8.6                 7.7   \n",
      "68936               -0.9            6.8                 5.9   \n",
      "22189               -0.8            7.1                 6.3   \n",
      "201776              -0.7            7.5                 6.8   \n",
      "...                  ...            ...                 ...   \n",
      "54745                0.5            8.6                 9.1   \n",
      "43688                0.7            7.5                 8.2   \n",
      "178253               0.7            7.9                 8.6   \n",
      "111027               0.7            8.8                 9.5   \n",
      "495945               0.8            7.7                 8.5   \n",
      "\n",
      "                                               Hotel_Name  \n",
      "3813                                   Kube Hotel Ice Bar  \n",
      "250308          MARQUIS Faubourg St Honor Relais Ch teaux  \n",
      "68936                                       Villa Eugenie  \n",
      "22189              Holiday Inn Paris Montparnasse Pasteur  \n",
      "201776            Mercure Paris Op ra Faubourg Montmartre  \n",
      "...                                                   ...  \n",
      "54745                       Hotel Les Rives de Notre Dame  \n",
      "43688                       Mercure Paris Porte d Orleans  \n",
      "178253                    Renaissance Paris Vendome Hotel  \n",
      "111027  Hotel Stendhal Place Vend me Paris MGallery by...  \n",
      "495945                         Best Western Hotel Astoria  \n",
      "\n",
      "[1492 rows x 4 columns]\n"
     ]
    }
   ],
   "source": [
    "#  Add a new column to your dataframe with the column header Calc_Average_Score that contains that calculated average.\n",
    "df['Calc_Average_Score'] = round(df.groupby('Hotel_Name').Reviewer_Score.transform('mean'), 1)\n",
    "\n",
    "# Add a new column with the difference between the two average scores\n",
    "df['Score_Difference'] = df['Calc_Average_Score'] - df['Average_Score']\n",
    "\n",
    "# Create a df without all the duplicates of Hotel_Name (so only 1 row per hotel)\n",
    "review_scores_df = df.drop_duplicates(subset='Hotel_Name')\n",
    "\n",
    "# Sort the dataframe to find the lowest and highest average score difference\n",
    "review_scores_df = review_scores_df.sort_values(by='Score_Difference')\n",
    "print(review_scores_df[[\"Score_Difference\", \"Average_Score\", \"Calc_Average_Score\", \"Hotel_Name\"]])\n",
    "\n",
    "\n",
    "\n"
   ]
  },
  {
   "cell_type": "markdown",
   "metadata": {},
   "source": [
    "Calculate and print out how many rows have column Positive_Review values of \"No Positive\" and Negative_Review values of \"No Negative\"\n",
    "\n"
   ]
  },
  {
   "cell_type": "code",
   "execution_count": 32,
   "metadata": {},
   "outputs": [
    {
     "name": "stdout",
     "output_type": "stream",
     "text": [
      "Positive reviews with 'No Positive': 35948\n",
      "Negative reviews with 'No Negative': 128227\n",
      "Reviews with both 'No Positive' and 'No Negative': 128\n",
      "Time taken: 0.75 seconds\n"
     ]
    }
   ],
   "source": [
    "start = time.time()\n",
    "No_positive_reviews = df['Positive_Review'].str.contains(\"No Positive\", case=False, na=False)\n",
    "print(\"Positive reviews with 'No Positive': \" + str(No_positive_reviews.sum()))\n",
    "\n",
    "No_negative_reviews = df['Negative_Review'].str.contains(\"No Negative\", case=False, na=False)\n",
    "print(\"Negative reviews with 'No Negative': \" + str(No_negative_reviews.sum()))\n",
    "\n",
    "Both_no_reviews = df[No_positive_reviews & No_negative_reviews]\n",
    "print(\"Reviews with both 'No Positive' and 'No Negative': \" + str(Both_no_reviews.shape[0]))\n",
    "\n",
    "end = time.time()\n",
    "print(\"Time taken: \" + str(round(end - start, 2)) + \" seconds\")\n"
   ]
  },
  {
   "cell_type": "code",
   "execution_count": null,
   "metadata": {},
   "outputs": [],
   "source": []
  }
 ],
 "metadata": {
  "kernelspec": {
   "display_name": "Python 3",
   "language": "python",
   "name": "python3"
  },
  "language_info": {
   "codemirror_mode": {
    "name": "ipython",
    "version": 3
   },
   "file_extension": ".py",
   "mimetype": "text/x-python",
   "name": "python",
   "nbconvert_exporter": "python",
   "pygments_lexer": "ipython3",
   "version": "3.12.6"
  }
 },
 "nbformat": 4,
 "nbformat_minor": 2
}
