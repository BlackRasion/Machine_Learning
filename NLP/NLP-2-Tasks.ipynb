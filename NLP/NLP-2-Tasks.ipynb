{
 "cells": [
  {
   "cell_type": "code",
   "execution_count": 27,
   "metadata": {},
   "outputs": [],
   "source": [
    "from textblob import TextBlob\n",
    "from textblob.np_extractors import ConllExtractor\n",
    "import random"
   ]
  },
  {
   "cell_type": "markdown",
   "metadata": {},
   "source": [
    " improving conversational bot with NLP\n",
    "\n",
    " Your steps when building a better conversational bot:\n",
    "\n",
    "1. Print instructions advising the user how to interact with the bot\n",
    "2. Start loop\n",
    "    - Accept user input\n",
    "    - If user has asked to exit, then exit\n",
    "    - Process user input and determine appropriate sentiment response\n",
    "    - If a noun phrase is detected in the sentiment, pluralize it and ask for more input on that topic\n",
    "    - Print response\n",
    "3. loop back to step 2\n",
    "\n",
    " ps: use ConllExtractor"
   ]
  },
  {
   "cell_type": "code",
   "execution_count": 28,
   "metadata": {},
   "outputs": [],
   "source": [
    "extractor = ConllExtractor()"
   ]
  },
  {
   "cell_type": "code",
   "execution_count": 29,
   "metadata": {},
   "outputs": [],
   "source": [
    "exit_commands = [\"bye\", \"goodbye\", \"exit\", \"quit\", \"stop\"]"
   ]
  },
  {
   "cell_type": "code",
   "execution_count": 30,
   "metadata": {},
   "outputs": [],
   "source": [
    "random_responses = [\"That is quite interesting, please tell me more.\",\n",
    "                    \"I see. Do go on.\",\n",
    "                    \"Why do you say that?\",\n",
    "                    \"Funny weather we've been having, isn't it?\",\n",
    "                    \"Let's change the subject.\",\n",
    "                    \"Did you catch the game last night?\",\n",
    "                    \"Interesting topic, but how about we switch gears a bit?\",\n",
    "                    \"I'm not sure I follow, can you clarify?\",\n",
    "                    \"That's an interesting point; let's hear more.\",\n",
    "                    \"Quite fascinating, continue please.\",\n",
    "                    \"How does that relate to your earlier point?\"]"
   ]
  },
  {
   "cell_type": "code",
   "execution_count": 31,
   "metadata": {},
   "outputs": [],
   "source": [
    "random_bye = [  \"Goodbye!\",\n",
    "                \"It was nice talking with you, but I need to go now.\",\n",
    "                \"I enjoyed our chat, bye.\",\n",
    "                \"I hope you have a great day ahead!\",\n",
    "                \"Talk to you later!\",\n",
    "                \"Goodbye for now!\",\n",
    "                \"Catch you next time!\",\n",
    "                \"Until we meet again!\"]"
   ]
  },
  {
   "cell_type": "code",
   "execution_count": 32,
   "metadata": {},
   "outputs": [],
   "source": [
    "def get_bye():\n",
    "    return random.choice(random_bye)\n",
    "\n",
    "def get_response(text):\n",
    "\n",
    "    # Create a TextBlob based on the user input. Then extract the noun phrases\n",
    "    user_input_blob = TextBlob(text, np_extractor=extractor)\n",
    "    np = user_input_blob.noun_phrases \n",
    "\n",
    "    response = \"\"\n",
    "    \n",
    "    if user_input_blob.polarity <= -0.5:\n",
    "        response = \"Oh dear, that sounds bad. \"\n",
    "    elif user_input_blob.polarity <= 0:\n",
    "        response = \"Hmm, that's not great. \"\n",
    "    elif user_input_blob.polarity <= 0.5:\n",
    "        response = \"Well, that sounds positive. \"\n",
    "    elif user_input_blob.polarity <= 1:\n",
    "        response = \"Wow, that sounds great. \"\n",
    "\n",
    "    if len(np) != 0:\n",
    "        # There was at least one noun phrase detected, so ask about that and pluralise it\n",
    "        # e.g. cat -> cats or mouse -> mice\n",
    "        response = response + \"Can you tell me more about \" + np[0].pluralize() + \"?\"\n",
    "    else:\n",
    "        response = response + random.choice(random_responses)\n",
    "\n",
    "    return response"
   ]
  },
  {
   "cell_type": "code",
   "execution_count": 33,
   "metadata": {},
   "outputs": [],
   "source": [
    "def main():\n",
    "\n",
    "    print(\"Hello, I am Watermallon 🍉, the friendly robot.\")\n",
    "    print(\"You can end this conversation at any time by typing 'bye'\")\n",
    "    print(\"After typing each answer, press 'enter'\")\n",
    "\n",
    "    while True:\n",
    "        user_input = input(\"You: \").lower()\n",
    "\n",
    "        if user_input in exit_commands:\n",
    "            print(\"You:\", user_input)\n",
    "            print(\"🍉:\", get_bye())\n",
    "            break\n",
    "        else:                                \n",
    "            response = get_response(user_input)\n",
    "            \n",
    "            print(\"You:\", user_input)\n",
    "            print(\"🍉:\", response)"
   ]
  },
  {
   "cell_type": "code",
   "execution_count": 34,
   "metadata": {},
   "outputs": [
    {
     "name": "stdout",
     "output_type": "stream",
     "text": [
      "Hello, I am Watermallon, the friendly robot.\n",
      "You can end this conversation at any time by typing 'bye'\n",
      "After typing each answer, press 'enter'\n",
      "You: good to see u\n",
      "🍉: Wow, that sounds great. That's an interesting point; let's hear more.\n",
      "You: this is a lovely cat\n",
      "🍉: Well, that sounds positive. Can you tell me more about lovely cats?\n",
      "You: cats are good. but i prefer to have a meal\n",
      "🍉: Wow, that sounds great. Did you catch the game last night?\n",
      "You: no\n",
      "🍉: Hmm, that's not great. Did you catch the game last night?\n",
      "You: no\n",
      "🍉: Hmm, that's not great. Let's change the subject.\n",
      "You: byebye\n",
      "🍉: Hmm, that's not great. Did you catch the game last night?\n",
      "You: bye\n",
      "🍉: Until we meet again!\n"
     ]
    }
   ],
   "source": [
    "if __name__ == \"__main__\":\n",
    "    main()"
   ]
  }
 ],
 "metadata": {
  "kernelspec": {
   "display_name": "Python 3",
   "language": "python",
   "name": "python3"
  },
  "language_info": {
   "codemirror_mode": {
    "name": "ipython",
    "version": 3
   },
   "file_extension": ".py",
   "mimetype": "text/x-python",
   "name": "python",
   "nbconvert_exporter": "python",
   "pygments_lexer": "ipython3",
   "version": "3.11.2"
  }
 },
 "nbformat": 4,
 "nbformat_minor": 2
}
