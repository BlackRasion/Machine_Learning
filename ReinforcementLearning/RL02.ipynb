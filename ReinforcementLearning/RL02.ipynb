{
 "cells": [
  {
   "cell_type": "markdown",
   "metadata": {},
   "source": [
    "## CartPole Skating\n",
    "- apply Q-Learning to a problem with continuous state\n",
    "- use a simplified version of balancing known as a CartPole problem. \n",
    "In the cartpole world, we have a horizontal slider that can move left or right, and the goal is to balance a vertical pole on top of the slider."
   ]
  },
  {
   "cell_type": "code",
   "execution_count": 2,
   "metadata": {},
   "outputs": [
    {
     "data": {
      "text/plain": [
       "'0.29.1'"
      ]
     },
     "execution_count": 2,
     "metadata": {},
     "output_type": "execute_result"
    }
   ],
   "source": [
    "import gymnasium as gym\n",
    "import matplotlib.pyplot as plt\n",
    "import numpy as np\n",
    "import random\n",
    "gym.__version__"
   ]
  },
  {
   "cell_type": "markdown",
   "metadata": {},
   "source": [
    "### initialize a cartpole environment"
   ]
  },
  {
   "cell_type": "code",
   "execution_count": 14,
   "metadata": {},
   "outputs": [
    {
     "name": "stdout",
     "output_type": "stream",
     "text": [
      "Action space:  Discrete(2)\n",
      "Observation space:  Box([-4.8000002e+00 -3.4028235e+38 -4.1887903e-01 -3.4028235e+38], [4.8000002e+00 3.4028235e+38 4.1887903e-01 3.4028235e+38], (4,), float32)\n",
      "sample observation:  [-4.2988205e+00  3.2696322e+37  8.7885417e-02 -2.2151770e+38]\n"
     ]
    }
   ],
   "source": [
    "env = gym.make(\"CartPole-v1\", render_mode=\"rgb_array\")\n",
    "print(\"Action space: \", env.action_space)\n",
    "print(\"Observation space: \", env.observation_space)\n",
    "print(\"sample observation: \", env.observation_space.sample())"
   ]
  },
  {
   "cell_type": "markdown",
   "metadata": {},
   "source": [
    "run a short simulation for 100 steps to see how the environment works"
   ]
  },
  {
   "cell_type": "code",
   "execution_count": 29,
   "metadata": {},
   "outputs": [],
   "source": [
    "env.reset()\n",
    "\n",
    "for i in range(100):\n",
    "    env.render()\n",
    "    env.step(env.action_space.sample())\n",
    "env.close()"
   ]
  },
  {
   "cell_type": "markdown",
   "metadata": {},
   "source": [
    "The observation vector that is returned at each step of the simulation contains the following values:\n",
    "\n",
    "- Position of cart\n",
    "- Velocity of cart\n",
    "- Angle of pole\n",
    "- Rotation rate of pole"
   ]
  },
  {
   "cell_type": "code",
   "execution_count": null,
   "metadata": {},
   "outputs": [],
   "source": [
    "done = False\n",
    "while not done:\n",
    "    env.render()    \n",
    "    obs, reward, done, info, *_ = env.step(env.action_space.sample())\n",
    "    print(f\"{obs} -> {reward}\")\n",
    "    if done:\n",
    "        env.reset()\n",
    "env.close()"
   ]
  },
  {
   "cell_type": "code",
   "execution_count": null,
   "metadata": {},
   "outputs": [],
   "source": [
    "print(env.observation_space.high)\n",
    "print(env.observation_space.low)"
   ]
  },
  {
   "cell_type": "markdown",
   "metadata": {},
   "source": [
    "### State discretization\n",
    "- **Divide into bins**\n",
    "    If we know the interval of a certain value, we can divide this interval into a number of bins, and then replace the value by the bin number that it belongs to. This can be done using the numpy digitize method. In this case, we will precisely know the state size, because it will depend on the number of bins we select for digitalization.\n",
    "- **Linear interpolation**\n",
    "    Use linear interpolation to bring values to some finite interval (say, from -20 to 20), and then convert numbers to integers by rounding them. This gives us a bit less control on the size of the state, especially if we do not know the exact ranges of input values. "
   ]
  },
  {
   "cell_type": "code",
   "execution_count": 4,
   "metadata": {},
   "outputs": [],
   "source": [
    "# take the observation and produce a tuple of 4 integer values\n",
    "def discretize(x):\n",
    "    return tuple((x/np.array([0.25, 0.25, 0.01, 0.1])).astype(int))"
   ]
  },
  {
   "cell_type": "code",
   "execution_count": 5,
   "metadata": {},
   "outputs": [
    {
     "name": "stdout",
     "output_type": "stream",
     "text": [
      "Sample bins for interval (-5, 5) with 10 bins\n",
      " [-5. -4. -3. -2. -1.  0.  1.  2.  3.  4.  5.]\n"
     ]
    }
   ],
   "source": [
    "# another discretization method using bins\n",
    "def create_bins(i, num):\n",
    "    return np.arange(num+1)*(i[1]-i[0])/num+i[0]\n",
    "\n",
    "print(\"Sample bins for interval (-5, 5) with 10 bins\\n\",create_bins((-5,5), 10))\n",
    "\n",
    "ints = [(-5,5),(-2,2),(-0.5,0.5),(-2,2)] # intervals of values for each parameter\n",
    "nbins = [20,20,10,10] # number of bins for each parameter\n",
    "bins = [create_bins(ints[i], nbins[i]) for i in range(4)]\n",
    "\n",
    "def discretize_bins(x):\n",
    "    return tuple(np.digitize(x, bins[i]) for i in range(4))"
   ]
  },
  {
   "cell_type": "code",
   "execution_count": null,
   "metadata": {},
   "outputs": [],
   "source": [
    "env.reset()\n",
    "\n",
    "done = False\n",
    "while not done:\n",
    "    env.render()\n",
    "    obs, rew, done, info, *_ = env.step(env.action_space.sample())\n",
    "    #print(discretize_bins(obs))\n",
    "    print(discretize(obs))\n",
    "env.close()"
   ]
  },
  {
   "cell_type": "markdown",
   "metadata": {},
   "source": [
    "### The Q-Table structure\n",
    "the size of state vector is 20x20x10x10x2 (here 2 is the dimension of action space, and first dimensions correspond to the number of bins we have selected to use for each of the parameters in observation space)"
   ]
  },
  {
   "cell_type": "markdown",
   "metadata": {},
   "source": [
    "precise dimensions of the observation space are not known, in the case of the discretize function"
   ]
  },
  {
   "cell_type": "code",
   "execution_count": 6,
   "metadata": {},
   "outputs": [],
   "source": [
    "Q = {}\n",
    "actions =(0, 1)\n",
    "# return a list of Q-Table values for a given state that corresponds to all possible actions.\n",
    "# If the entry is not present in the Q-Table, return 0 as the default.\n",
    "def qvalues(state):\n",
    "    return [Q.get((state,a),0) for a in actions]\n"
   ]
  },
  {
   "cell_type": "markdown",
   "metadata": {},
   "source": [
    "### Q-Learning"
   ]
  },
  {
   "cell_type": "markdown",
   "metadata": {},
   "source": [
    "Hyperparameter"
   ]
  },
  {
   "cell_type": "code",
   "execution_count": 7,
   "metadata": {},
   "outputs": [],
   "source": [
    "initial_alpha = 1\n",
    "initial_epsilon = 0.2\n",
    "final_epsilon = 0.99\n",
    "\n",
    "decay_rate = 1/140000\n",
    "epochs = 140000\n",
    "\n",
    "# Function to calculate the learning rate at each epoch\n",
    "def get_alpha(epoch, initial_alpha, decay_rate):\n",
    "    return initial_alpha * np.exp(-decay_rate * epoch)\n",
    "\n",
    "# Function to calculate epsilon at each epoch\n",
    "def get_epsilon(epoch, initial_epsilon, final_epsilon, epochs):\n",
    "    return initial_epsilon + (final_epsilon - initial_epsilon) * (epoch / epochs)\n",
    "\n",
    "gamma = 0.9 # discount factor\n"
   ]
  },
  {
   "cell_type": "markdown",
   "metadata": {},
   "source": [
    "Calculate average cumulative reward, over a number of simulations. "
   ]
  },
  {
   "cell_type": "code",
   "execution_count": 8,
   "metadata": {},
   "outputs": [
    {
     "name": "stdout",
     "output_type": "stream",
     "text": [
      "0: 24.0, alpha=1.0, epsilon=0.2\n",
      "5000: 26.8128, alpha=0.96491594437237, epsilon=0.22821428571428573\n",
      "10000: 27.5582, alpha=0.9310627797040227, epsilon=0.25642857142857145\n",
      "15000: 27.5226, alpha=0.898397321348071, epsilon=0.28464285714285714\n",
      "20000: 28.6042, alpha=0.8668778997501816, epsilon=0.31285714285714283\n",
      "25000: 29.9524, alpha=0.8364643072929833, epsilon=0.3410714285714286\n",
      "30000: 31.6934, alpha=0.8071177470053893, epsilon=0.36928571428571433\n",
      "35000: 33.8972, alpha=0.7788007830714049, epsilon=0.3975\n",
      "40000: 37.7218, alpha=0.751477293075286, epsilon=0.4257142857142857\n",
      "45000: 41.683, alpha=0.7251124219221319, epsilon=0.45392857142857146\n",
      "50000: 45.1308, alpha=0.6996725373751304, epsilon=0.48214285714285715\n",
      "55000: 50.6172, alpha=0.6751251871527363, epsilon=0.510357142857143\n",
      "60000: 56.4248, alpha=0.6514390575310556, epsilon=0.5385714285714286\n",
      "65000: 60.895, alpha=0.6285839333986252, epsilon=0.5667857142857143\n",
      "70000: 67.7466, alpha=0.6065306597126334, epsilon=0.595\n",
      "75000: 74.2746, alpha=0.5852511043074123, epsilon=0.6232142857142857\n",
      "80000: 82.3776, alpha=0.5647181220077593, epsilon=0.6514285714285715\n",
      "85000: 89.089, alpha=0.5449055200013083, epsilon=0.6796428571428572\n",
      "90000: 97.1514, alpha=0.5257880244257798, epsilon=0.707857142857143\n",
      "95000: 104.6418, alpha=0.507341248128484, epsilon=0.7360714285714287\n",
      "100000: 113.0546, alpha=0.4895416595569531, epsilon=0.7642857142857142\n",
      "105000: 125.2752, alpha=0.4723665527410147, epsilon=0.7925\n",
      "110000: 135.432, alpha=0.4557940183280172, epsilon=0.8207142857142857\n",
      "115000: 150.6688, alpha=0.43980291563425605, epsilon=0.8489285714285715\n",
      "120000: 166.1422, alpha=0.42437284567695, epsilon=0.8771428571428572\n",
      "125000: 183.9368, alpha=0.40948412515236426, epsilon=0.905357142857143\n",
      "130000: 220.0502, alpha=0.3951177613268873, epsilon=0.9335714285714287\n",
      "135000: 244.2174, alpha=0.38125542780903016, epsilon=0.9617857142857142\n"
     ]
    }
   ],
   "source": [
    "def probs(v, eps=1e-4):\n",
    "    v = v - v.min() + eps\n",
    "    v = v / v.sum()\n",
    "    return v\n",
    "\n",
    "Qmax = 0\n",
    "cum_rewards = []\n",
    "rewards = []\n",
    "\n",
    "for epoch in range(epochs):\n",
    "    env.reset()\n",
    "    done = False\n",
    "    cumulative_reward = 0\n",
    "    obs, rew, done, info, *_ = env.step(env.action_space.sample())\n",
    "    \n",
    "    alpha = get_alpha(epoch, initial_alpha, decay_rate)\n",
    "    epsilon = get_epsilon(epoch, initial_epsilon, final_epsilon, epochs)\n",
    "\n",
    "    # == do the simulation ==\n",
    "    while not done:\n",
    "\n",
    "        s = discretize(obs)\n",
    "        if random.random()<epsilon:\n",
    "            # exploitation - chose the action according to Q-Table probabilities\n",
    "            v = probs(np.array(qvalues(s)))\n",
    "            a = random.choices(actions,weights=v)[0]\n",
    "        else:\n",
    "            # exploration - randomly chose the action\n",
    "            a = np.random.randint(env.action_space.n)\n",
    "\n",
    "        obs, rew, done, info, *_ = env.step(a)\n",
    "        cumulative_reward += rew\n",
    "        ns = discretize(obs)\n",
    "        Q[(s,a)] = (1 - alpha) * Q.get((s,a),0) + alpha * (rew + gamma * max(qvalues(ns)))\n",
    "    cum_rewards.append(cumulative_reward)\n",
    "    rewards.append(cumulative_reward)\n",
    "    # == Periodically print results and calculate average reward ==\n",
    "    if epoch%5000==0:\n",
    "        print(f\"{epoch}: {np.average(cum_rewards)}, alpha={alpha}, epsilon={epsilon}\")\n",
    "        if np.average(cum_rewards) > Qmax:\n",
    "            Qmax = np.average(cum_rewards)\n",
    "            Qbest = Q\n",
    "        cum_rewards=[]"
   ]
  },
  {
   "cell_type": "markdown",
   "metadata": {},
   "source": [
    "### Plot Trainning Progress"
   ]
  },
  {
   "cell_type": "code",
   "execution_count": 9,
   "metadata": {},
   "outputs": [
    {
     "data": {
      "text/plain": [
       "[<matplotlib.lines.Line2D at 0x1f71e4a9010>]"
      ]
     },
     "execution_count": 9,
     "metadata": {},
     "output_type": "execute_result"
    },
    {
     "data": {
      "image/png": "[encoded data removed]",
      "text/plain": [
       "<Figure size 640x480 with 1 Axes>"
      ]
     },
     "metadata": {},
     "output_type": "display_data"
    }
   ],
   "source": [
    "plt.plot(rewards)"
   ]
  },
  {
   "cell_type": "code",
   "execution_count": 10,
   "metadata": {},
   "outputs": [
    {
     "data": {
      "text/plain": [
       "[<matplotlib.lines.Line2D at 0x1f7205d1850>]"
      ]
     },
     "execution_count": 10,
     "metadata": {},
     "output_type": "execute_result"
    },
    {
     "data": {
      "image/png": "[encoded data removed]",
      "text/plain": [
       "<Figure size 640x480 with 1 Axes>"
      ]
     },
     "metadata": {},
     "output_type": "display_data"
    }
   ],
   "source": [
    "# calculate the running average over a series of experiments, let's say 100.\n",
    "def running_average(x, window):\n",
    "    return np.convolve(x, np.ones(window)/ window, mode='valid')\n",
    "plt.plot(running_average(rewards, 100))"
   ]
  },
  {
   "cell_type": "markdown",
   "metadata": {},
   "source": [
    "### Varying hyperparameters\n",
    "- alpha (Learning rate)\n",
    "- epsilon"
   ]
  },
  {
   "cell_type": "markdown",
   "metadata": {},
   "source": [
    "### Seeing the result in action"
   ]
  },
  {
   "cell_type": "code",
   "execution_count": 13,
   "metadata": {},
   "outputs": [],
   "source": [
    "env.reset()\n",
    "done = False\n",
    "obs, rew, done, info, *_ = env.step(env.action_space.sample())\n",
    "while not done:\n",
    "    s = discretize(obs)\n",
    "    env.render()\n",
    "    v = probs(np.array(qvalues(s)))\n",
    "    a = random.choices(actions, weights=v)[0]\n",
    "    obs, _, done, _, *_ = env.step(a)\n",
    "env.close()"
   ]
  },
  {
   "cell_type": "markdown",
   "metadata": {},
   "source": [
    "### Saving result to an animated GIF\n"
   ]
  },
  {
   "cell_type": "code",
   "execution_count": 16,
   "metadata": {},
   "outputs": [
    {
     "name": "stdout",
     "output_type": "stream",
     "text": [
      "335\n"
     ]
    }
   ],
   "source": [
    "from PIL import Image\n",
    "obs = env.reset()\n",
    "done = False\n",
    "obs, rew, done, info, *_ = env.step(env.action_space.sample())\n",
    "\n",
    "i=0\n",
    "ims = []\n",
    "\n",
    "while not done:\n",
    "   s = discretize(obs)\n",
    "   img=env.render()\n",
    "   ims.append(Image.fromarray(img))\n",
    "   v = probs(np.array([Qbest.get((s,a),0) for a in actions]))\n",
    "   a = random.choices(actions,weights=v)[0]\n",
    "   obs,_,done,_, *_ = env.step(a)\n",
    "   i+=1\n",
    "env.close()\n",
    "ims[0].save('images/cartpole-balance.gif',save_all=True,append_images=ims[1::2],loop=0,duration=5)\n",
    "print(i)"
   ]
  },
  {
   "cell_type": "code",
   "execution_count": null,
   "metadata": {},
   "outputs": [],
   "source": []
  }
 ],
 "metadata": {
  "kernelspec": {
   "display_name": ".venv",
   "language": "python",
   "name": "python3"
  },
  "language_info": {
   "codemirror_mode": {
    "name": "ipython",
    "version": 3
   },
   "file_extension": ".py",
   "mimetype": "text/x-python",
   "name": "python",
   "nbconvert_exporter": "python",
   "pygments_lexer": "ipython3",
   "version": "3.12.6"
  }
 },
 "nbformat": 4,
 "nbformat_minor": 2
}
